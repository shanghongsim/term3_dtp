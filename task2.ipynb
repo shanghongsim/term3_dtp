{
 "cells": [
  {
   "cell_type": "markdown",
   "metadata": {},
   "source": [
    "# Task 2\n",
    "\n",
    "Task 2: You are free to find and define a problem (apply the discovery and define phases first, from the UK Design Council Double Diamond, 3.007 Design Thinking and Innovation) of your interest related to COVID-19. The problem can be modelled either using Linear Regression (or Multiple Linear Regression) or Logistic Regression, which means you can work with either continuous numerical data or classification.\n",
    "\n",
    "The following technical/tool constraint applies: you are NOT allowed to use Neural Networks or other Machine Learning models. You must use Python and Jupyter Notebook.\n",
    "\n",
    "In general, you may want to consider performing the following steps:\n",
    "- Find an interesting problem which you want to solve either using **Linear Regression or Classification** (please check with your instructors first on whether the problem makes sense).\n",
    "- Find a **dataset** to build your model. For example, you can use Kaggle (https://www.kaggle.com/datasets) to find suitable datasets.\n",
    "- Use **plots** to visualize and understand your data.\n",
    "- Create **training and test** data sets.\n",
    "- Build your model.\n",
    "- Choose an **appropriate metric** to evaluate your model (you may use the same metric as the one used in Task 1).\n",
    "- Improve your model."
   ]
  },
  {
   "cell_type": "markdown",
   "metadata": {},
   "source": [
    "Problem: predict gold prices given covid\n",
    "Effect of covid on economy"
   ]
  },
  {
   "cell_type": "code",
   "execution_count": 1,
   "metadata": {},
   "outputs": [],
   "source": [
    "import numpy as np\n",
    "import pandas as pd\n",
    "import matplotlib.pyplot as plt\n",
    "import seaborn as sns"
   ]
  },
  {
   "cell_type": "markdown",
   "metadata": {},
   "source": [
    "### Load data \n",
    "We use data from [Yahoo Finance](https://finance.yahoo.com/quote/GLD/history?period1=1479859200&period2=1637625600&interval=1wk&filter=history&frequency=1wk&includeAdjustedClose=true) "
   ]
  },
  {
   "cell_type": "code",
   "execution_count": 3,
   "metadata": {},
   "outputs": [],
   "source": [
    "df_gold_all = pd.read_csv('GLD.csv')\n",
    "df = pd.read_csv('covid_data.csv')\n",
    "\n",
    "# display(df_gold_all)\n",
    "# display(df)\n"
   ]
  },
  {
   "cell_type": "markdown",
   "metadata": {},
   "source": [
    "## Clean data"
   ]
  },
  {
   "cell_type": "code",
   "execution_count": 4,
   "metadata": {},
   "outputs": [],
   "source": [
    "# Clean covid data by selecting only the relevant columns\n",
    "\n",
    "df_subset = df.loc[((df['location']=='United States')| (df['location']=='China') | (df['location']=='Japan') | (df['location']=='Hong Kong') | (df['location']=='United Kingdom') | \n",
    "(df['location']=='Canada') | (df['location']=='India') | (df['location']=='Saudi Arabia') | (df['location']=='France') | (df['location']=='Germany') | \n",
    "(df['location']=='South Korea') | (df['location']=='Switzerland') | (df['location']=='Australia') | (df['location']=='Netherlands') |  \n",
    "(df['location']=='Iran')| (df['location']=='Sweden')| (df['location']=='Brazil')| (df['location']=='Spain')|(df['location']=='Russia') |(df['location']=='Singapore')) ,:]\n"
   ]
  },
  {
   "cell_type": "code",
   "execution_count": 5,
   "metadata": {},
   "outputs": [],
   "source": [
    "# Fill any NaN values\n",
    "df_covid=df_subset.fillna(0)\n",
    "# display(df_covid.index)"
   ]
  },
  {
   "cell_type": "code",
   "execution_count": 6,
   "metadata": {},
   "outputs": [],
   "source": [
    "# Change the 'date' column to DateTime object\n",
    "df_covid['Week']=pd.to_datetime(df_covid['date'])\n",
    "\n",
    "# Group by week and then take the mean for the week\n",
    "df_covid=df_covid.groupby(pd.Grouper(key='Week', freq=\"W-MON\")).mean()\n",
    "\n",
    "# Exclude the last week to match up with gold data\n",
    "df_covid=df_covid.iloc[:95,:]\n",
    "# display(df_covid)\n"
   ]
  },
  {
   "cell_type": "code",
   "execution_count": 7,
   "metadata": {},
   "outputs": [],
   "source": [
    "# Clean Up of Gold Data frame\n",
    "# change to standard date \n",
    "\n",
    "df_gold_all = pd.read_csv('GLD.csv')\n",
    "\n",
    "# Change gold date range to same range as covid date range\n",
    "df_gold=df_gold_all.copy()\n",
    "df_gold=df_gold.loc[((df_gold['Date']> '2020-01-26') & (df_gold['Date']< '2021-11-17')) ,:]\n",
    "\n",
    "# Change the date column to DateTime Index\n",
    "df_gold['Date'] = pd.to_datetime(df_gold['Date']).dt.date"
   ]
  },
  {
   "cell_type": "code",
   "execution_count": 9,
   "metadata": {},
   "outputs": [],
   "source": [
    "# Sync up the indexing for both df_gold and df_covid\n",
    "df_covid=df_covid.reset_index()\n",
    "df_gold=df_gold.reset_index()\n",
    "\n",
    "# Merge into one data frame\n",
    "frames=[df_gold,df_covid]\n",
    "df_all = pd.concat(frames,axis=1)\n",
    "# display(df_all)\n",
    "\n",
    "# Remove duplicated/unecessary columns\n",
    "df_all.drop(['index','Week'], axis=1, inplace=True)\n",
    "# display(df_all)"
   ]
  },
  {
   "cell_type": "code",
   "execution_count": 10,
   "metadata": {},
   "outputs": [],
   "source": [
    "# Clean covid data by selecting only the relevant columns\n",
    "# split data into numerical and categorical set so that we can normalize the numerical set\n",
    "columns_cat=['Date']\n",
    "columns_num=['new_deaths', 'new_cases',\n",
    "         'stringency_index','total_tests','total_vaccinations',\n",
    "         'reproduction_rate','hospital_beds_per_thousand','hosp_patients_per_million',\n",
    "         'hosp_patients','icu_patients_per_million','icu_patients','Open','High','Low','Close','Adj Close','Volume']\n",
    "\n",
    "df_cat = df_all.loc[:,columns_cat]\n",
    "\n",
    "df_num = df_all.loc[:,columns_num]\n",
    "\n",
    "# display(df_num)\n",
    "\n",
    "def normalize_minmax(dfin):\n",
    "    df_copy=dfin.copy()\n",
    "    min_v=dfin.min(axis=0)\n",
    "    max_v=dfin.max(axis=0)\n",
    "    dfout=(df_copy-min_v)/(max_v-min_v)\n",
    "    return dfout\n",
    "\n",
    "def normalize_z(df):\n",
    "    dfout=(df-df.mean(axis=0))/df.std(axis=0)\n",
    "    return dfout\n",
    "\n",
    "df_num_norm = normalize_z(df_num)\n",
    "stats = df_num_norm.describe()\n",
    "# display(stats)\n",
    "\n",
    "frames=[df_cat , df_num_norm]\n",
    "result = pd.concat(frames,axis=1)\n",
    "df_covid=result.fillna(0)\n",
    "# display(df_covid.index)"
   ]
  },
  {
   "cell_type": "code",
   "execution_count": 11,
   "metadata": {},
   "outputs": [],
   "source": [
    "# Clean covid data by selecting only the relevant columns\n",
    "columns=['Date','new_deaths', 'new_cases',\n",
    "         'stringency_index','total_tests','total_vaccinations',\n",
    "         'reproduction_rate','hospital_beds_per_thousand','hosp_patients_per_million',\n",
    "         'hosp_patients','icu_patients_per_million','icu_patients','Open','High','Low','Close','Adj Close','Volume']\n",
    "\n",
    "df_cov_gold = df_all.loc[:,columns]\n",
    "df_cov_gold=df_cov_gold.fillna(0)\n",
    "# display(df_cov_gold)"
   ]
  },
  {
   "cell_type": "code",
   "execution_count": 14,
   "metadata": {},
   "outputs": [],
   "source": [
    "# display(df_cov_gold)\n",
    "# df_cov_gold.isna().sum()"
   ]
  },
  {
   "cell_type": "markdown",
   "metadata": {},
   "source": [
    "### Visualising data"
   ]
  },
  {
   "cell_type": "code",
   "execution_count": 15,
   "metadata": {},
   "outputs": [],
   "source": [
    "# Clean covid data by selecting only the relevant columns\n",
    "# split data into numerical and categorical set so that we can normalize the numerical set\n",
    "columns_cat=['Date']\n",
    "columns_num=['new_deaths', 'new_cases',\n",
    "         'stringency_index','total_tests','total_vaccinations',\n",
    "         'reproduction_rate','hospital_beds_per_thousand','hosp_patients_per_million',\n",
    "         'hosp_patients','icu_patients_per_million','icu_patients','Open','High','Low','Close','Adj Close','Volume']\n",
    "\n",
    "df_cat = df_all.loc[:,columns_cat]\n",
    "\n",
    "df_num = df_all.loc[:,columns_num]\n",
    "\n",
    "# display(df_num)\n",
    "\n",
    "def normalize_minmax(dfin):\n",
    "    df_copy=dfin.copy()\n",
    "    min_v=dfin.min(axis=0)\n",
    "    max_v=dfin.max(axis=0)\n",
    "    dfout=(df_copy-min_v)/(max_v-min_v)\n",
    "    return dfout\n",
    "\n",
    "def normalize_z(df):\n",
    "    dfout=(df-df.mean(axis=0))/df.std(axis=0)\n",
    "    return dfout\n",
    "\n",
    "df_num_norm = normalize_z(df_num)\n",
    "stats = df_num_norm.describe()\n",
    "# display(stats)\n",
    "\n",
    "frames=[df_cat , df_num_norm]\n",
    "df_visual = pd.concat(frames,axis=1)\n",
    "df_visual=df_visual.fillna(0)\n"
   ]
  },
  {
   "cell_type": "code",
   "execution_count": 16,
   "metadata": {},
   "outputs": [
    {
     "data": {
      "image/png": "[encoded data removed]",
      "text/plain": [
       "<Figure size 1260x180 with 8 Axes>"
      ]
     },
     "metadata": {
      "needs_background": "light"
     },
     "output_type": "display_data"
    }
   ],
   "source": [
    "myplot = sns.pairplot(data=df_visual, x_vars=['Close','new_deaths', 'new_cases',\n",
    "         'stringency_index','total_tests','total_vaccinations',\n",
    "         'reproduction_rate'],y_vars=['Close'])"
   ]
  },
  {
   "cell_type": "code",
   "execution_count": 17,
   "metadata": {},
   "outputs": [
    {
     "data": {
      "image/png": "[encoded data removed]",
      "text/plain": [
       "<Figure size 1260x180 with 8 Axes>"
      ]
     },
     "metadata": {
      "needs_background": "light"
     },
     "output_type": "display_data"
    }
   ],
   "source": [
    "myplot = sns.pairplot(data=df_visual, x_vars=['Close','new_deaths','hospital_beds_per_thousand','hosp_patients_per_million',\n",
    "         'hosp_patients','icu_patients_per_million','icu_patients'],y_vars=['Close'])"
   ]
  },
  {
   "cell_type": "markdown",
   "metadata": {},
   "source": [
    "### Train model"
   ]
  },
  {
   "cell_type": "code",
   "execution_count": 18,
   "metadata": {},
   "outputs": [],
   "source": [
    "def normalize_minmax(dfin):\n",
    "    df_copy=dfin.copy()\n",
    "    min_v=dfin.min(axis=0)\n",
    "    max_v=dfin.max(axis=0)\n",
    "    dfout=(df_copy-min_v)/(max_v-min_v)\n",
    "    return dfout\n",
    "\n",
    "def normalize_z(df):\n",
    "    dfout=(df-df.mean(axis=0))/df.std(axis=0)\n",
    "    return dfout\n",
    "\n",
    "def get_features_targets(df, feature_names, target_names):\n",
    "    df_feature=df.loc[:,feature_names]\n",
    "    df_target=df.loc[:,target_names]\n",
    "    return df_feature, df_target\n",
    "\n",
    "def compute_cost(X, y, beta):\n",
    "    J = 0\n",
    "    #calculate m, no of rows/data pt\n",
    "    m = X.shape[0]\n",
    "    \n",
    "    #calculate yp, predicted target value from X and beta\n",
    "    yp = np.matmul(X, beta)\n",
    "    \n",
    "    #calculate the error\n",
    "    error = yp-y\n",
    "    \n",
    "    #calculate the cost\n",
    "    J = (1/(2*m))*np.matmul(error.T, error)\n",
    "    J= J[0][0] #to get the float\n",
    "    return J\n",
    "\n",
    "def prepare_feature(df_feature):\n",
    "    #numpy is just arrays\n",
    "    feature = df_feature.to_numpy()\n",
    "    array1 = np.ones((feature.shape[0],1))\n",
    "    X = np.concatenate((array1, feature), axis = 1)\n",
    "    return X\n",
    "\n",
    "def prepare_target(df_target):\n",
    "    return df_target.to_numpy() \n",
    "\n",
    "def gradient_descent(X, y, beta, alpha, num_iters):\n",
    "    #calculate m from shape of X or y\n",
    "    m = X.shape[0]\n",
    "    J_storage = np.zeros(num_iters)\n",
    "\n",
    "    #for the number of iterations\n",
    "    for n in range(num_iters):\n",
    "        #--> compute the predicted y\n",
    "        yp = np.matmul(X, beta)\n",
    "        \n",
    "        #--> compute the error\n",
    "        error = yp - y\n",
    "        \n",
    "        #--> compute the new beta\n",
    "        beta = beta - (alpha/m)*np.matmul(X.T, error)\n",
    "        \n",
    "        #--> compute J using the new beta and store it\n",
    "        J_storage[n] = compute_cost(X, y, beta)\n",
    "        \n",
    "    return beta, J_storage\n",
    "\n",
    "def predict_norm(X, beta):\n",
    "    y = np.matmul(X, beta)\n",
    "    return y\n",
    "\n",
    "def predict(df_feature, beta):\n",
    "    df_feature = normalize_z(df_feature)\n",
    "    X = prepare_feature(df_feature)\n",
    "    yp = predict_norm(X, beta)\n",
    "    return yp\n",
    "\n",
    "def mean_squared_error(target, pred):\n",
    "    n=target.shape[0]\n",
    "    error=target-pred\n",
    "    mse=(1/n)*np.sum(error**2)\n",
    "    return mse\n",
    "\n",
    "def split_data(df_feature, df_target, random_state=None, test_size=0.5):\n",
    "    indices=df_target.index\n",
    "\n",
    "    if random_state!=None:\n",
    "        np.random.seed(random_state)\n",
    "    \n",
    "    num_rows=len(indices)\n",
    "    k = int(test_size * num_rows)\n",
    "    test_indices=np.random.choice(indices,k,replace=False)\n",
    "\n",
    "    indices=set(indices)\n",
    "    test_indices=set(test_indices)\n",
    "    train_indices=indices-test_indices\n",
    "    \n",
    "    df_feature_train=df_feature.loc[train_indices,:]\n",
    "    df_feature_test=df_feature.loc[test_indices,:]\n",
    "    df_target_train=df_target.loc[train_indices,:]\n",
    "    df_target_test=df_target.loc[test_indices,:]\n",
    "    return df_feature_train, df_feature_test, df_target_train, df_target_test\n",
    "\n",
    "def r2_score(y, ypred):\n",
    "    # calculate ssres\n",
    "    diff = y - ypred\n",
    "    ssres = np.matmul(diff.T, diff)[0][0]\n",
    "    \n",
    "    # calculate sstot\n",
    "    ymean=np.mean(y)\n",
    "    diff_mean=y-ymean #element wise subtraction\n",
    "    sstot= np.matmul(diff_mean.T, diff_mean)[0][0]\n",
    "    \n",
    "    # calcuate r2\n",
    "    return 1-(ssres/sstot)\n",
    "\n",
    "def adj_r2_score(X,y,ypred):\n",
    "    r2=r2_score(y, ypred)\n",
    "    adj_r2=1 - ((1-r2)*(X.shape[0]-1)/(X.shape[0]-X.shape[1]-1))\n",
    "    return adj_r2"
   ]
  },
  {
   "cell_type": "code",
   "execution_count": 31,
   "metadata": {},
   "outputs": [
    {
     "data": {
      "text/html": [
       "<div>\n",
       "<style scoped>\n",
       "    .dataframe tbody tr th:only-of-type {\n",
       "        vertical-align: middle;\n",
       "    }\n",
       "\n",
       "    .dataframe tbody tr th {\n",
       "        vertical-align: top;\n",
       "    }\n",
       "\n",
       "    .dataframe thead th {\n",
       "        text-align: right;\n",
       "    }\n",
       "</style>\n",
       "<table border=\"1\" class=\"dataframe\">\n",
       "  <thead>\n",
       "    <tr style=\"text-align: right;\">\n",
       "      <th></th>\n",
       "      <th>new_deaths</th>\n",
       "      <th>new_cases</th>\n",
       "      <th>stringency_index</th>\n",
       "      <th>total_tests</th>\n",
       "      <th>total_vaccinations</th>\n",
       "      <th>reproduction_rate</th>\n",
       "      <th>hospital_beds_per_thousand</th>\n",
       "      <th>hosp_patients_per_million</th>\n",
       "      <th>hosp_patients</th>\n",
       "      <th>icu_patients_per_million</th>\n",
       "      <th>icu_patients</th>\n",
       "    </tr>\n",
       "  </thead>\n",
       "  <tbody>\n",
       "    <tr>\n",
       "      <th>0</th>\n",
       "      <td>1.477273</td>\n",
       "      <td>53.477273</td>\n",
       "      <td>14.100909</td>\n",
       "      <td>3.568182e+00</td>\n",
       "      <td>0.000000e+00</td>\n",
       "      <td>0.375000</td>\n",
       "      <td>5.987500</td>\n",
       "      <td>0.002000</td>\n",
       "      <td>0.136364</td>\n",
       "      <td>0.000000</td>\n",
       "      <td>0.000000</td>\n",
       "    </tr>\n",
       "    <tr>\n",
       "      <th>1</th>\n",
       "      <td>3.853933</td>\n",
       "      <td>190.157303</td>\n",
       "      <td>16.485618</td>\n",
       "      <td>5.439326e+01</td>\n",
       "      <td>0.000000e+00</td>\n",
       "      <td>0.223483</td>\n",
       "      <td>5.018315</td>\n",
       "      <td>0.005494</td>\n",
       "      <td>0.370787</td>\n",
       "      <td>0.001517</td>\n",
       "      <td>0.101124</td>\n",
       "    </tr>\n",
       "    <tr>\n",
       "      <th>2</th>\n",
       "      <td>5.590476</td>\n",
       "      <td>216.228571</td>\n",
       "      <td>19.572857</td>\n",
       "      <td>9.919048e+01</td>\n",
       "      <td>0.000000e+00</td>\n",
       "      <td>0.116381</td>\n",
       "      <td>4.764000</td>\n",
       "      <td>0.008752</td>\n",
       "      <td>0.590476</td>\n",
       "      <td>0.000857</td>\n",
       "      <td>0.057143</td>\n",
       "    </tr>\n",
       "    <tr>\n",
       "      <th>3</th>\n",
       "      <td>8.133333</td>\n",
       "      <td>287.304762</td>\n",
       "      <td>19.978476</td>\n",
       "      <td>4.411333e+02</td>\n",
       "      <td>0.000000e+00</td>\n",
       "      <td>0.085524</td>\n",
       "      <td>4.764000</td>\n",
       "      <td>0.005219</td>\n",
       "      <td>0.352381</td>\n",
       "      <td>0.000286</td>\n",
       "      <td>0.019048</td>\n",
       "    </tr>\n",
       "    <tr>\n",
       "      <th>4</th>\n",
       "      <td>6.774775</td>\n",
       "      <td>52.171171</td>\n",
       "      <td>20.183423</td>\n",
       "      <td>1.102829e+03</td>\n",
       "      <td>0.000000e+00</td>\n",
       "      <td>0.241171</td>\n",
       "      <td>4.587568</td>\n",
       "      <td>0.002270</td>\n",
       "      <td>0.153153</td>\n",
       "      <td>0.000000</td>\n",
       "      <td>0.000000</td>\n",
       "    </tr>\n",
       "    <tr>\n",
       "      <th>...</th>\n",
       "      <td>...</td>\n",
       "      <td>...</td>\n",
       "      <td>...</td>\n",
       "      <td>...</td>\n",
       "      <td>...</td>\n",
       "      <td>...</td>\n",
       "      <td>...</td>\n",
       "      <td>...</td>\n",
       "      <td>...</td>\n",
       "      <td>...</td>\n",
       "      <td>...</td>\n",
       "    </tr>\n",
       "    <tr>\n",
       "      <th>90</th>\n",
       "      <td>191.471429</td>\n",
       "      <td>11407.221429</td>\n",
       "      <td>53.169429</td>\n",
       "      <td>8.688063e+07</td>\n",
       "      <td>2.274649e+08</td>\n",
       "      <td>0.938143</td>\n",
       "      <td>4.285500</td>\n",
       "      <td>26.957671</td>\n",
       "      <td>3599.057143</td>\n",
       "      <td>7.257300</td>\n",
       "      <td>1079.514286</td>\n",
       "    </tr>\n",
       "    <tr>\n",
       "      <th>91</th>\n",
       "      <td>193.078571</td>\n",
       "      <td>11422.700000</td>\n",
       "      <td>52.262714</td>\n",
       "      <td>8.994827e+07</td>\n",
       "      <td>2.343906e+08</td>\n",
       "      <td>0.984000</td>\n",
       "      <td>4.285500</td>\n",
       "      <td>27.200257</td>\n",
       "      <td>3362.207143</td>\n",
       "      <td>7.102771</td>\n",
       "      <td>1007.642857</td>\n",
       "    </tr>\n",
       "    <tr>\n",
       "      <th>92</th>\n",
       "      <td>190.264286</td>\n",
       "      <td>11694.685714</td>\n",
       "      <td>47.827643</td>\n",
       "      <td>8.947385e+07</td>\n",
       "      <td>2.331194e+08</td>\n",
       "      <td>1.019857</td>\n",
       "      <td>4.285500</td>\n",
       "      <td>27.753571</td>\n",
       "      <td>3198.550000</td>\n",
       "      <td>7.029236</td>\n",
       "      <td>917.557143</td>\n",
       "    </tr>\n",
       "    <tr>\n",
       "      <th>93</th>\n",
       "      <td>176.392857</td>\n",
       "      <td>11915.964286</td>\n",
       "      <td>42.060286</td>\n",
       "      <td>9.215567e+07</td>\n",
       "      <td>2.337482e+08</td>\n",
       "      <td>1.017429</td>\n",
       "      <td>4.285500</td>\n",
       "      <td>27.349979</td>\n",
       "      <td>3034.028571</td>\n",
       "      <td>6.782521</td>\n",
       "      <td>830.307143</td>\n",
       "    </tr>\n",
       "    <tr>\n",
       "      <th>94</th>\n",
       "      <td>179.371429</td>\n",
       "      <td>13501.814286</td>\n",
       "      <td>28.432571</td>\n",
       "      <td>8.102630e+07</td>\n",
       "      <td>2.488827e+08</td>\n",
       "      <td>0.290714</td>\n",
       "      <td>4.285500</td>\n",
       "      <td>14.897507</td>\n",
       "      <td>2397.964286</td>\n",
       "      <td>3.806243</td>\n",
       "      <td>646.385714</td>\n",
       "    </tr>\n",
       "  </tbody>\n",
       "</table>\n",
       "<p>95 rows × 11 columns</p>\n",
       "</div>"
      ],
      "text/plain": [
       "    new_deaths     new_cases  stringency_index   total_tests  \\\n",
       "0     1.477273     53.477273         14.100909  3.568182e+00   \n",
       "1     3.853933    190.157303         16.485618  5.439326e+01   \n",
       "2     5.590476    216.228571         19.572857  9.919048e+01   \n",
       "3     8.133333    287.304762         19.978476  4.411333e+02   \n",
       "4     6.774775     52.171171         20.183423  1.102829e+03   \n",
       "..         ...           ...               ...           ...   \n",
       "90  191.471429  11407.221429         53.169429  8.688063e+07   \n",
       "91  193.078571  11422.700000         52.262714  8.994827e+07   \n",
       "92  190.264286  11694.685714         47.827643  8.947385e+07   \n",
       "93  176.392857  11915.964286         42.060286  9.215567e+07   \n",
       "94  179.371429  13501.814286         28.432571  8.102630e+07   \n",
       "\n",
       "    total_vaccinations  reproduction_rate  hospital_beds_per_thousand  \\\n",
       "0         0.000000e+00           0.375000                    5.987500   \n",
       "1         0.000000e+00           0.223483                    5.018315   \n",
       "2         0.000000e+00           0.116381                    4.764000   \n",
       "3         0.000000e+00           0.085524                    4.764000   \n",
       "4         0.000000e+00           0.241171                    4.587568   \n",
       "..                 ...                ...                         ...   \n",
       "90        2.274649e+08           0.938143                    4.285500   \n",
       "91        2.343906e+08           0.984000                    4.285500   \n",
       "92        2.331194e+08           1.019857                    4.285500   \n",
       "93        2.337482e+08           1.017429                    4.285500   \n",
       "94        2.488827e+08           0.290714                    4.285500   \n",
       "\n",
       "    hosp_patients_per_million  hosp_patients  icu_patients_per_million  \\\n",
       "0                    0.002000       0.136364                  0.000000   \n",
       "1                    0.005494       0.370787                  0.001517   \n",
       "2                    0.008752       0.590476                  0.000857   \n",
       "3                    0.005219       0.352381                  0.000286   \n",
       "4                    0.002270       0.153153                  0.000000   \n",
       "..                        ...            ...                       ...   \n",
       "90                  26.957671    3599.057143                  7.257300   \n",
       "91                  27.200257    3362.207143                  7.102771   \n",
       "92                  27.753571    3198.550000                  7.029236   \n",
       "93                  27.349979    3034.028571                  6.782521   \n",
       "94                  14.897507    2397.964286                  3.806243   \n",
       "\n",
       "    icu_patients  \n",
       "0       0.000000  \n",
       "1       0.101124  \n",
       "2       0.057143  \n",
       "3       0.019048  \n",
       "4       0.000000  \n",
       "..           ...  \n",
       "90   1079.514286  \n",
       "91   1007.642857  \n",
       "92    917.557143  \n",
       "93    830.307143  \n",
       "94    646.385714  \n",
       "\n",
       "[95 rows x 11 columns]"
      ]
     },
     "metadata": {},
     "output_type": "display_data"
    },
    {
     "data": {
      "text/html": [
       "<div>\n",
       "<style scoped>\n",
       "    .dataframe tbody tr th:only-of-type {\n",
       "        vertical-align: middle;\n",
       "    }\n",
       "\n",
       "    .dataframe tbody tr th {\n",
       "        vertical-align: top;\n",
       "    }\n",
       "\n",
       "    .dataframe thead th {\n",
       "        text-align: right;\n",
       "    }\n",
       "</style>\n",
       "<table border=\"1\" class=\"dataframe\">\n",
       "  <thead>\n",
       "    <tr style=\"text-align: right;\">\n",
       "      <th></th>\n",
       "      <th>Close</th>\n",
       "    </tr>\n",
       "  </thead>\n",
       "  <tbody>\n",
       "    <tr>\n",
       "      <th>0</th>\n",
       "      <td>149.330002</td>\n",
       "    </tr>\n",
       "    <tr>\n",
       "      <th>1</th>\n",
       "      <td>147.789993</td>\n",
       "    </tr>\n",
       "    <tr>\n",
       "      <th>2</th>\n",
       "      <td>149.000000</td>\n",
       "    </tr>\n",
       "    <tr>\n",
       "      <th>3</th>\n",
       "      <td>154.699997</td>\n",
       "    </tr>\n",
       "    <tr>\n",
       "      <th>4</th>\n",
       "      <td>148.380005</td>\n",
       "    </tr>\n",
       "    <tr>\n",
       "      <th>...</th>\n",
       "      <td>...</td>\n",
       "    </tr>\n",
       "    <tr>\n",
       "      <th>90</th>\n",
       "      <td>167.770004</td>\n",
       "    </tr>\n",
       "    <tr>\n",
       "      <th>91</th>\n",
       "      <td>166.649994</td>\n",
       "    </tr>\n",
       "    <tr>\n",
       "      <th>92</th>\n",
       "      <td>169.839996</td>\n",
       "    </tr>\n",
       "    <tr>\n",
       "      <th>93</th>\n",
       "      <td>174.449997</td>\n",
       "    </tr>\n",
       "    <tr>\n",
       "      <th>94</th>\n",
       "      <td>172.610001</td>\n",
       "    </tr>\n",
       "  </tbody>\n",
       "</table>\n",
       "<p>95 rows × 1 columns</p>\n",
       "</div>"
      ],
      "text/plain": [
       "         Close\n",
       "0   149.330002\n",
       "1   147.789993\n",
       "2   149.000000\n",
       "3   154.699997\n",
       "4   148.380005\n",
       "..         ...\n",
       "90  167.770004\n",
       "91  166.649994\n",
       "92  169.839996\n",
       "93  174.449997\n",
       "94  172.610001\n",
       "\n",
       "[95 rows x 1 columns]"
      ]
     },
     "metadata": {},
     "output_type": "display_data"
    }
   ],
   "source": [
    "# Get features and targets from data frame\n",
    "features=['new_deaths', 'new_cases',\n",
    "         'stringency_index','total_tests','total_vaccinations',\n",
    "         'reproduction_rate','hospital_beds_per_thousand','hosp_patients_per_million',\n",
    "         'hosp_patients','icu_patients_per_million','icu_patients']\n",
    "\n",
    "df_feature, df_target = get_features_targets(df_cov_gold, features, ['Close'])\n",
    "display(df_feature)\n",
    "display(df_target)\n",
    "\n",
    "# Split into training and test data set\n",
    "df_features_train, df_features_test, df_target_train, df_target_test = split_data(df_feature, df_target, random_state=100, test_size=0.3)\n",
    "\n",
    "# Normalize train features\n",
    "df_features_train_z=normalize_z(df_features_train)\n",
    "# display(df_features_train_z.describe())\n",
    "# display(df_target_train.describe())\n",
    "\n",
    "# Export same set of data to excel for excel analysis \n",
    "# frames1=[df_features_train_z, df_target_train]\n",
    "# display(df_features_train_z)\n",
    "# display(df_target_train)\n",
    "# excel1 = pd.concat(frames1,axis=1)\n",
    "# excel1 = excel1.fillna(0)\n",
    "# display(excel1)\n",
    "# excel1.to_excel(\"cov_gold_excel.xlsx\")\n",
    "\n",
    "# Prepare X and target vector\n",
    "X = prepare_feature(df_features_train_z)\n",
    "m=X.shape[1]\n",
    "target = prepare_target(df_target_train)\n",
    "\n",
    "# Set up gradient descent\n",
    "iterations = 1500\n",
    "alpha = 0.01\n",
    "beta = np.zeros((m,1))\n",
    "\n",
    "# Call the gradient_descent function\n",
    "beta, J_storage = gradient_descent(X, target, beta, alpha, iterations)\n",
    "\n",
    "# Normal equation\n",
    "X_sq=np.linalg.inv(np.matmul(X.T,X))\n",
    "Xy=np.matmul(X.T,target)\n",
    "beta_n= np.matmul(X_sq,Xy)\n",
    "\n"
   ]
  },
  {
   "cell_type": "code",
   "execution_count": 32,
   "metadata": {},
   "outputs": [
    {
     "data": {
      "text/plain": [
       "[<matplotlib.lines.Line2D at 0x7fdfcec1d9a0>]"
      ]
     },
     "execution_count": 32,
     "metadata": {},
     "output_type": "execute_result"
    },
    {
     "data": {
      "image/png": "[encoded data removed]",
      "text/plain": [
       "<Figure size 432x288 with 1 Axes>"
      ]
     },
     "metadata": {
      "needs_background": "light"
     },
     "output_type": "display_data"
    }
   ],
   "source": [
    "plt.plot(J_storage)"
   ]
  },
  {
   "cell_type": "code",
   "execution_count": 33,
   "metadata": {},
   "outputs": [
    {
     "name": "stdout",
     "output_type": "stream",
     "text": [
      "[[167.59532555]\n",
      " [  3.27480948]\n",
      " [  6.15421778]\n",
      " [  3.88627622]\n",
      " [ -1.50507384]\n",
      " [ -0.83803454]\n",
      " [ -1.93104515]\n",
      " [ -1.48844009]\n",
      " [ -2.25722964]\n",
      " [  2.92575393]\n",
      " [ -9.09312879]\n",
      " [  2.24138987]]\n"
     ]
    }
   ],
   "source": [
    "# Call the predict method to get the predicted values\n",
    "pred = predict(df_features_test, beta)\n",
    "with np.printoptions(threshold=np.inf):\n",
    "    print(beta)"
   ]
  },
  {
   "cell_type": "code",
   "execution_count": 34,
   "metadata": {},
   "outputs": [
    {
     "data": {
      "image/png": "[encoded data removed]",
      "text/plain": [
       "<Figure size 432x288 with 1 Axes>"
      ]
     },
     "metadata": {
      "needs_background": "light"
     },
     "output_type": "display_data"
    },
    {
     "data": {
      "image/png": "[encoded data removed]",
      "text/plain": [
       "<Figure size 432x288 with 1 Axes>"
      ]
     },
     "metadata": {
      "needs_background": "light"
     },
     "output_type": "display_data"
    },
    {
     "data": {
      "image/png": "[encoded data removed]",
      "text/plain": [
       "<Figure size 432x288 with 1 Axes>"
      ]
     },
     "metadata": {
      "needs_background": "light"
     },
     "output_type": "display_data"
    },
    {
     "data": {
      "image/png": "[encoded data removed]",
      "text/plain": [
       "<Figure size 432x288 with 1 Axes>"
      ]
     },
     "metadata": {
      "needs_background": "light"
     },
     "output_type": "display_data"
    },
    {
     "data": {
      "image/png": "[encoded data removed]",
      "text/plain": [
       "<Figure size 432x288 with 1 Axes>"
      ]
     },
     "metadata": {
      "needs_background": "light"
     },
     "output_type": "display_data"
    },
    {
     "data": {
      "image/png": "[encoded data removed]",
      "text/plain": [
       "<Figure size 432x288 with 1 Axes>"
      ]
     },
     "metadata": {
      "needs_background": "light"
     },
     "output_type": "display_data"
    },
    {
     "data": {
      "image/png": "[encoded data removed]",
      "text/plain": [
       "<Figure size 432x288 with 1 Axes>"
      ]
     },
     "metadata": {
      "needs_background": "light"
     },
     "output_type": "display_data"
    },
    {
     "data": {
      "image/png": "[encoded data removed]",
      "text/plain": [
       "<Figure size 432x288 with 1 Axes>"
      ]
     },
     "metadata": {
      "needs_background": "light"
     },
     "output_type": "display_data"
    },
    {
     "data": {
      "image/png": "[encoded data removed]",
      "text/plain": [
       "<Figure size 432x288 with 1 Axes>"
      ]
     },
     "metadata": {
      "needs_background": "light"
     },
     "output_type": "display_data"
    },
    {
     "data": {
      "image/png": "[encoded data removed]",
      "text/plain": [
       "<Figure size 432x288 with 1 Axes>"
      ]
     },
     "metadata": {
      "needs_background": "light"
     },
     "output_type": "display_data"
    },
    {
     "data": {
      "image/png": "[encoded data removed]",
      "text/plain": [
       "<Figure size 432x288 with 1 Axes>"
      ]
     },
     "metadata": {
      "needs_background": "light"
     },
     "output_type": "display_data"
    }
   ],
   "source": [
    "features=['new_deaths', 'new_cases',\n",
    "         'stringency_index','total_tests','total_vaccinations',\n",
    "         'reproduction_rate','hospital_beds_per_thousand','hosp_patients_per_million',\n",
    "         'hosp_patients','icu_patients_per_million','icu_patients']\n",
    "target = prepare_target(df_target_test)\n",
    "for i in range(len(features)):\n",
    "    ft=features[i]\n",
    "    plt.figure(i)\n",
    "    plt.scatter(df_features_test[ft],target)\n",
    "    plt.scatter(df_features_test[ft],pred)\n",
    "    plt.xlabel(ft)\n",
    "    plt.ylabel('Close price of gold')"
   ]
  },
  {
   "cell_type": "markdown",
   "metadata": {},
   "source": [
    "### Evaluate model"
   ]
  },
  {
   "cell_type": "code",
   "execution_count": 35,
   "metadata": {},
   "outputs": [
    {
     "name": "stdout",
     "output_type": "stream",
     "text": [
      "MSE:  46.31647356235523\n",
      "RSE:  0.9261276766067131\n",
      "r2:  0.5190818196831619\n",
      "adjusted r2:  0.18845057071533577\n"
     ]
    }
   ],
   "source": [
    "mse=mean_squared_error(target,pred)\n",
    "print('MSE: ',mse)\n",
    "\n",
    "rse=np.sqrt(mse/(X.shape[0]-m-1))\n",
    "print('RSE: ',rse)\n",
    "\n",
    "r2=r2_score(target, pred)\n",
    "print('r2: ',r2)\n",
    "\n",
    "adj_r2=adj_r2_score(df_features_test,target,pred)\n",
    "print('adjusted r2: ',adj_r2)"
   ]
  },
  {
   "cell_type": "markdown",
   "metadata": {},
   "source": [
    "## P-values of t-Stat in excel\n",
    "<img src=\"./images/excel_task 2_naive.png\">\n",
    "Suggests that\n",
    "- total_tests\n",
    "- total_vaccinations\n",
    "- reproduction_rate\n",
    "- hospital_beds_per_thousand\n",
    "\n",
    "Has no relation to the output variable of gold close price"
   ]
  },
  {
   "cell_type": "markdown",
   "metadata": {},
   "source": [
    "Can we confirm with another method that addition of these variables contribute noise and give us a worse model?"
   ]
  },
  {
   "cell_type": "code",
   "execution_count": null,
   "metadata": {},
   "outputs": [],
   "source": [
    "import itertools\n",
    "\n",
    "def evalue_models_with_diff_feature_combinations(features):\n",
    "    #1 get all different combinations of features\n",
    "    store_evaluations = []\n",
    "    for L in range(0, len(features)+1):\n",
    "        #2 for each combination, run model, print combination, r2 and adj_r2\n",
    "        for features_subset in itertools.combinations(features, L):\n",
    "            features_list = [*features_subset]\n",
    "            if features_list == []:\n",
    "                continue\n",
    "            #run base model\n",
    "\n",
    "            # Get features and targets from data frame\n",
    "            df_feature, df_target = get_features_targets(df_cov_gold, features_list, ['Close'])\n",
    "\n",
    "            # Split into training and test data set\n",
    "            df_features_train, df_features_test, df_target_train, df_target_test = split_data(df_feature, df_target, random_state=100, test_size=0.3)\n",
    "\n",
    "            # Normalize train features\n",
    "            df_features_train_z=normalize_z(df_features_train)\n",
    "            \n",
    "            # Prepare X and target vector\n",
    "            X = prepare_feature( df_features_train_z)\n",
    "            m=X.shape[1]\n",
    "            target = prepare_target(df_target_train)\n",
    "\n",
    "            # Set up gradient descent\n",
    "            iterations = 1500\n",
    "            alpha = 0.01\n",
    "            beta = np.zeros((m,1))\n",
    "\n",
    "            # Call the gradient_descent function\n",
    "            beta, J_storage = gradient_descent(X, target, beta, alpha, iterations)\n",
    "\n",
    "            # Call the predict method to get the predicted values\n",
    "            target = prepare_target(df_target_test)\n",
    "            pred = predict(df_features_test, beta)\n",
    "\n",
    "            # Evaluate model\n",
    "            mse=mean_squared_error(target,pred)\n",
    "            print('MSE: ',mse)\n",
    "\n",
    "            rse=np.sqrt(mse/(X.shape[0]-m-1))\n",
    "            print('RSE: ',rse)\n",
    "\n",
    "            r2=r2_score(target, pred)\n",
    "            print('r2: ',r2)\n",
    "\n",
    "            adj_r2=adj_r2_score(df_features_test,target,pred)\n",
    "            print('adjusted r2: ',adj_r2)\n",
    "            \n",
    "            print('―' * 10)\n",
    "            print(f\"feature combination: {features_subset}\")\n",
    "            print(f\"mse {mse}\")\n",
    "            print(\"r2_1\",r2)\n",
    "            print(\"adj_r2_1\",adj_r2)\n",
    "            print('―' * 10)\n",
    "            \n",
    "            store_evaluations.append([features_subset,mse,r2,adj_r2])\n",
    "    #print max \n",
    "    print('―' * 10)\n",
    "    print('―' * 10)\n",
    "    print('―' * 10)\n",
    "    \n",
    "    best_fit = max(store_evaluations, key=lambda x: x[3])\n",
    "    print(f\"best_fit combination:\", best_fit[0])\n",
    "    print(f\"best_fit mse:\", best_fit[1])\n",
    "    print(f\"best_fit r2_1:\", best_fit[2])\n",
    "    print(f\"best_fit adj_r2_1:\", best_fit[3])\n",
    "    return None    "
   ]
  },
  {
   "cell_type": "code",
   "execution_count": null,
   "metadata": {},
   "outputs": [],
   "source": [
    "features=['new_deaths', 'new_cases',\n",
    "         'stringency_index','total_tests','total_vaccinations',\n",
    "         'reproduction_rate','hospital_beds_per_thousand','hosp_patients_per_million',\n",
    "         'hosp_patients','icu_patients_per_million','icu_patients']\n",
    "\n",
    "evalue_models_with_diff_feature_combinations(features)"
   ]
  },
  {
   "cell_type": "markdown",
   "metadata": {},
   "source": [
    "<img src=\"./images/best_fit.png\">\n",
    "Simulated results corroborate with what we learn from excel"
   ]
  },
  {
   "cell_type": "markdown",
   "metadata": {},
   "source": [
    "Next step is to \n",
    "1. remove variables that have no relation to our target \n",
    "- total_vaccinations\n",
    "- reproduction_rate\n",
    "- hospital_beds_per_thousand\n",
    "\n",
    "2. Add polynomial terms to model\n",
    "- new_cases\n",
    "- hosp_patients_per_million\n",
    "- hosp_patients\n",
    "- icu_patients_per_million\n",
    "- icu_patients"
   ]
  },
  {
   "cell_type": "markdown",
   "metadata": {},
   "source": [
    "# Add polynomial regression"
   ]
  },
  {
   "cell_type": "code",
   "execution_count": 36,
   "metadata": {},
   "outputs": [],
   "source": [
    "def transform_features(df_feature, colname, colname_transformed,power):\n",
    "    df_out=df_feature.copy()\n",
    "    for i in range(1,power):\n",
    "        df_out.loc[:,colname_transformed+str(i)]=df_feature[colname]**i \n",
    "    return df_out"
   ]
  },
  {
   "cell_type": "code",
   "execution_count": 37,
   "metadata": {},
   "outputs": [],
   "source": [
    "# display(df_covid)"
   ]
  },
  {
   "cell_type": "code",
   "execution_count": 61,
   "metadata": {},
   "outputs": [
    {
     "name": "stdout",
     "output_type": "stream",
     "text": [
      "Power: 1\n",
      "MSE:  49.12457332061866\n",
      "r2:  0.48992445682663754\n",
      "adjusted r2:  0.34418858734853397\n",
      "adj_r2 0.34418858734853397\n",
      "__________\n",
      "Power: 2\n",
      "MSE:  47.83096141150454\n",
      "r2:  0.5033564268692143\n",
      "adjusted r2:  0.2550346403038215\n",
      "adj_r2 0.2550346403038215\n",
      "__________\n",
      "Power: 3\n",
      "MSE:  37.87080378113786\n",
      "r2:  0.6067758047891693\n",
      "adjusted r2:  0.29219644862050465\n",
      "adj_r2 0.29219644862050465\n",
      "__________\n",
      "Power: 4\n",
      "MSE:  34.83068641181202\n",
      "r2:  0.6383422778117207\n",
      "adjusted r2:  0.18627012507637153\n",
      "adj_r2 0.18627012507637153\n",
      "__________\n"
     ]
    }
   ],
   "source": [
    "features=['new_deaths', 'new_cases', 'stringency_index', 'total_tests', 'icu_patients_per_million', 'icu_patients'] #maybe because of collinearity\n",
    "power_feature=['icu_patients_per_million', 'icu_patients', 'new_cases']\n",
    "# SH version\n",
    "# features=['new_deaths', 'new_cases',\n",
    "#          'stringency_index','total_tests','hosp_patients_per_million',\n",
    "#          'hosp_patients','icu_patients_per_million','icu_patients']\n",
    "# power_feature=['hosp_patients_per_million',\n",
    "#          'hosp_patients','icu_patients_per_million','icu_patients','new_cases']\n",
    "\n",
    "all={}\n",
    "mse_all=[]\n",
    "r2_all=[]\n",
    "adj_r2_all=[]\n",
    "for i in range(1,5):\n",
    "    print(f\"Power: {i}\")\n",
    "    df_feature, df_target = get_features_targets(df_cov_gold, features, ['Close'])\n",
    "    for f in power_feature:\n",
    "        df_feature = transform_features(df_feature, f, f+\"^\",i)\n",
    "\n",
    "    # Split into training and test data set\n",
    "    df_features_train, df_features_test, df_target_train, df_target_test = split_data(df_feature, df_target, random_state=100, test_size=0.3)\n",
    "    \n",
    "    # Normalize train features\n",
    "    df_features_train_z=normalize_z(df_features_train)\n",
    "\n",
    "    # Prepare X and target vector\n",
    "    X = prepare_feature(df_features_train_z)\n",
    "    m=X.shape[1]\n",
    "    target = prepare_target(df_target_train)\n",
    "\n",
    "    # Set up gradient descent\n",
    "    iterations = 1500\n",
    "    alpha = 0.01\n",
    "    beta = np.zeros((m,1))\n",
    "\n",
    "    # Call the gradient_descent function\n",
    "    beta, J_storage = gradient_descent(X, target, beta, alpha, iterations)\n",
    "\n",
    "    # Call the predict method to get the predicted values\n",
    "    pred = predict(df_features_test, beta)\n",
    "    all[i]=pred\n",
    "\n",
    "    # Collect evaluation metric\n",
    "\n",
    "    # MSE\n",
    "    actual=prepare_target(df_target_test)\n",
    "    mse2=mean_squared_error(actual,pred)\n",
    "    print(\"MSE: \",mse2)\n",
    "    mse_all.append(mse2)\n",
    "    \n",
    "    # r_2\n",
    "    r2 = r2_score(actual,pred)\n",
    "    print(\"r2: \",r2)\n",
    "    r2_all.append(r2)\n",
    "\n",
    "    #madj r2\n",
    "    adj_r2=adj_r2_score(df_features_test,actual,pred)\n",
    "    print('adjusted r2: ',adj_r2)\n",
    "    print(\"adj_r2\",adj_r2)\n",
    "    adj_r2_all.append(adj_r2)\n",
    "    print(\"_\" * 10)\n",
    "    "
   ]
  },
  {
   "cell_type": "code",
   "execution_count": 62,
   "metadata": {},
   "outputs": [
    {
     "data": {
      "text/plain": [
       "Text(0, 0.5, 'Mean squared error')"
      ]
     },
     "execution_count": 62,
     "metadata": {},
     "output_type": "execute_result"
    },
    {
     "data": {
      "image/png": "[encoded data removed]",
      "text/plain": [
       "<Figure size 432x288 with 1 Axes>"
      ]
     },
     "metadata": {
      "needs_background": "light"
     },
     "output_type": "display_data"
    }
   ],
   "source": [
    "power=list(range(1,5))\n",
    "plt.figure(6)\n",
    "plt.scatter(power,mse_all)\n",
    "plt.xlabel('Power of features')\n",
    "plt.ylabel('Mean squared error')"
   ]
  },
  {
   "cell_type": "code",
   "execution_count": 63,
   "metadata": {},
   "outputs": [
    {
     "data": {
      "text/plain": [
       "Text(0, 0.5, 'r2')"
      ]
     },
     "execution_count": 63,
     "metadata": {},
     "output_type": "execute_result"
    },
    {
     "data": {
      "image/png": "[encoded data removed]",
      "text/plain": [
       "<Figure size 432x288 with 1 Axes>"
      ]
     },
     "metadata": {
      "needs_background": "light"
     },
     "output_type": "display_data"
    }
   ],
   "source": [
    "power=list(range(1,5))\n",
    "plt.figure(7)\n",
    "plt.scatter(power,r2_all)\n",
    "plt.xlabel('Power of features')\n",
    "plt.ylabel('r2')"
   ]
  },
  {
   "cell_type": "code",
   "execution_count": 64,
   "metadata": {},
   "outputs": [
    {
     "data": {
      "text/plain": [
       "Text(0, 0.5, 'adj r2')"
      ]
     },
     "execution_count": 64,
     "metadata": {},
     "output_type": "execute_result"
    },
    {
     "data": {
      "image/png": "[encoded data removed]",
      "text/plain": [
       "<Figure size 432x288 with 1 Axes>"
      ]
     },
     "metadata": {
      "needs_background": "light"
     },
     "output_type": "display_data"
    }
   ],
   "source": [
    "power=list(range(1,5))\n",
    "plt.figure(8)\n",
    "plt.scatter(power,adj_r2_all)\n",
    "plt.xlabel('Power of features')\n",
    "plt.ylabel('adj r2')"
   ]
  },
  {
   "cell_type": "code",
   "execution_count": 65,
   "metadata": {},
   "outputs": [
    {
     "name": "stdout",
     "output_type": "stream",
     "text": [
      "Power: 1\n",
      "MSE:  54.96767016020216\n",
      "r2:  0.42925378647164114\n",
      "adjusted r2:  0.29953873794246866\n",
      "adj_r2 0.29953873794246866\n",
      "__________\n",
      "Power: 2\n",
      "MSE:  54.15337727378205\n",
      "r2:  0.43770883978339403\n",
      "adjusted r2:  0.24090693370758198\n",
      "adj_r2 0.24090693370758198\n",
      "__________\n",
      "Power: 3\n",
      "MSE:  41.43452418216604\n",
      "r2:  0.5697726005596174\n",
      "adjusted r2:  0.3546589008394262\n",
      "adj_r2 0.3546589008394262\n",
      "__________\n",
      "Power: 4\n",
      "MSE:  36.72195557682059\n",
      "r2:  0.6187046487918696\n",
      "adjusted r2:  0.35656409483627993\n",
      "adj_r2 0.35656409483627993\n",
      "__________\n"
     ]
    }
   ],
   "source": [
    "features=['new_deaths', 'new_cases', 'stringency_index', 'total_tests', 'icu_patients_per_million'] #maybe because of collinearity\n",
    "power_feature=['icu_patients_per_million', 'new_cases']\n",
    "# SH version\n",
    "# features=['new_deaths', 'new_cases',\n",
    "#          'stringency_index','total_tests','hosp_patients_per_million',\n",
    "#          'hosp_patients','icu_patients_per_million','icu_patients']\n",
    "# power_feature=['hosp_patients_per_million',\n",
    "#          'hosp_patients','icu_patients_per_million','icu_patients','new_cases']\n",
    "\n",
    "all={}\n",
    "mse_all=[]\n",
    "r2_all=[]\n",
    "adj_r2_all=[]\n",
    "for i in range(1,5):\n",
    "    print(f\"Power: {i}\")\n",
    "    df_feature, df_target = get_features_targets(df_cov_gold, features, ['Close'])\n",
    "    for f in power_feature:\n",
    "        df_feature = transform_features(df_feature, f, f+\"^\",i)\n",
    "\n",
    "    # Split into training and test data set\n",
    "    df_features_train, df_features_test, df_target_train, df_target_test = split_data(df_feature, df_target, random_state=100, test_size=0.3)\n",
    "    \n",
    "    # Normalize train features\n",
    "    df_features_train_z=normalize_z(df_features_train)\n",
    "\n",
    "    # Prepare X and target vector\n",
    "    X = prepare_feature(df_features_train_z)\n",
    "    m=X.shape[1]\n",
    "    target = prepare_target(df_target_train)\n",
    "\n",
    "    # Set up gradient descent\n",
    "    iterations = 1500\n",
    "    alpha = 0.01\n",
    "    beta = np.zeros((m,1))\n",
    "\n",
    "    # Call the gradient_descent function\n",
    "    beta, J_storage = gradient_descent(X, target, beta, alpha, iterations)\n",
    "\n",
    "    # Call the predict method to get the predicted values\n",
    "    pred = predict(df_features_test, beta)\n",
    "    all[i]=pred\n",
    "\n",
    "    # Collect evaluation metric\n",
    "\n",
    "    # MSE\n",
    "    actual=prepare_target(df_target_test)\n",
    "    mse2=mean_squared_error(actual,pred)\n",
    "    print(\"MSE: \",mse2)\n",
    "    mse_all.append(mse2)\n",
    "    \n",
    "    # r_2\n",
    "    r2 = r2_score(actual,pred)\n",
    "    print(\"r2: \",r2)\n",
    "    r2_all.append(r2)\n",
    "\n",
    "    #madj r2\n",
    "    adj_r2=adj_r2_score(df_features_test,actual,pred)\n",
    "    print('adjusted r2: ',adj_r2)\n",
    "    print(\"adj_r2\",adj_r2)\n",
    "    adj_r2_all.append(adj_r2)\n",
    "    print(\"_\" * 10)\n",
    "    "
   ]
  },
  {
   "cell_type": "code",
   "execution_count": 66,
   "metadata": {},
   "outputs": [
    {
     "data": {
      "text/plain": [
       "Text(0, 0.5, 'adj r2')"
      ]
     },
     "execution_count": 66,
     "metadata": {},
     "output_type": "execute_result"
    },
    {
     "data": {
      "image/png": "[encoded data removed]",
      "text/plain": [
       "<Figure size 432x288 with 1 Axes>"
      ]
     },
     "metadata": {
      "needs_background": "light"
     },
     "output_type": "display_data"
    },
    {
     "data": {
      "image/png": "[encoded data removed]",
      "text/plain": [
       "<Figure size 432x288 with 1 Axes>"
      ]
     },
     "metadata": {
      "needs_background": "light"
     },
     "output_type": "display_data"
    },
    {
     "data": {
      "image/png": "[encoded data removed]",
      "text/plain": [
       "<Figure size 432x288 with 1 Axes>"
      ]
     },
     "metadata": {
      "needs_background": "light"
     },
     "output_type": "display_data"
    }
   ],
   "source": [
    "power=list(range(1,5))\n",
    "plt.figure(6)\n",
    "plt.scatter(power,mse_all)\n",
    "plt.xlabel('Power of features')\n",
    "plt.ylabel('Mean squared error')\n",
    "\n",
    "power=list(range(1,5))\n",
    "plt.figure(7)\n",
    "plt.scatter(power,r2_all)\n",
    "plt.xlabel('Power of features')\n",
    "plt.ylabel('r2')\n",
    "\n",
    "power=list(range(1,5))\n",
    "plt.figure(8)\n",
    "plt.scatter(power,adj_r2_all)\n",
    "plt.xlabel('Power of features')\n",
    "plt.ylabel('adj r2')"
   ]
  },
  {
   "cell_type": "markdown",
   "metadata": {},
   "source": []
  },
  {
   "cell_type": "code",
   "execution_count": null,
   "metadata": {},
   "outputs": [],
   "source": []
  }
 ],
 "metadata": {
  "interpreter": {
   "hash": "ab98593b63df34d96b9cf9028151dd1be88d2ccc5f4e0f03580fbedb877f8576"
  },
  "kernelspec": {
   "display_name": "Python 3.8.3 64-bit ('base': conda)",
   "language": "python",
   "name": "python3"
  },
  "language_info": {
   "codemirror_mode": {
    "name": "ipython",
    "version": 3
   },
   "file_extension": ".py",
   "mimetype": "text/x-python",
   "name": "python",
   "nbconvert_exporter": "python",
   "pygments_lexer": "ipython3",
   "version": "3.8.5"
  },
  "orig_nbformat": 4
 },
 "nbformat": 4,
 "nbformat_minor": 2
}
